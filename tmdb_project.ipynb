{
 "cells": [
  {
   "cell_type": "code",
   "execution_count": 26,
   "id": "6651df65",
   "metadata": {
    "scrolled": true
   },
   "outputs": [
    {
     "data": {
      "text/html": [
       "<div>\n",
       "<style scoped>\n",
       "    .dataframe tbody tr th:only-of-type {\n",
       "        vertical-align: middle;\n",
       "    }\n",
       "\n",
       "    .dataframe tbody tr th {\n",
       "        vertical-align: top;\n",
       "    }\n",
       "\n",
       "    .dataframe thead th {\n",
       "        text-align: right;\n",
       "    }\n",
       "</style>\n",
       "<table border=\"1\" class=\"dataframe\">\n",
       "  <thead>\n",
       "    <tr style=\"text-align: right;\">\n",
       "      <th></th>\n",
       "      <th>id</th>\n",
       "      <th>imdb_id</th>\n",
       "      <th>popularity</th>\n",
       "      <th>budget</th>\n",
       "      <th>revenue</th>\n",
       "      <th>original_title</th>\n",
       "      <th>cast</th>\n",
       "      <th>homepage</th>\n",
       "      <th>director</th>\n",
       "      <th>tagline</th>\n",
       "      <th>...</th>\n",
       "      <th>overview</th>\n",
       "      <th>runtime</th>\n",
       "      <th>genres</th>\n",
       "      <th>production_companies</th>\n",
       "      <th>release_date</th>\n",
       "      <th>vote_count</th>\n",
       "      <th>vote_average</th>\n",
       "      <th>release_year</th>\n",
       "      <th>budget_adj</th>\n",
       "      <th>revenue_adj</th>\n",
       "    </tr>\n",
       "  </thead>\n",
       "  <tbody>\n",
       "    <tr>\n",
       "      <th>0</th>\n",
       "      <td>135397</td>\n",
       "      <td>tt0369610</td>\n",
       "      <td>32.985763</td>\n",
       "      <td>150000000</td>\n",
       "      <td>1513528810</td>\n",
       "      <td>Jurassic World</td>\n",
       "      <td>Chris Pratt|Bryce Dallas Howard|Irrfan Khan|Vi...</td>\n",
       "      <td>http://www.jurassicworld.com/</td>\n",
       "      <td>Colin Trevorrow</td>\n",
       "      <td>The park is open.</td>\n",
       "      <td>...</td>\n",
       "      <td>Twenty-two years after the events of Jurassic ...</td>\n",
       "      <td>124</td>\n",
       "      <td>Action|Adventure|Science Fiction|Thriller</td>\n",
       "      <td>Universal Studios|Amblin Entertainment|Legenda...</td>\n",
       "      <td>6/9/15</td>\n",
       "      <td>5562</td>\n",
       "      <td>6.5</td>\n",
       "      <td>2015</td>\n",
       "      <td>1.379999e+08</td>\n",
       "      <td>1.392446e+09</td>\n",
       "    </tr>\n",
       "  </tbody>\n",
       "</table>\n",
       "<p>1 rows × 21 columns</p>\n",
       "</div>"
      ],
      "text/plain": [
       "       id    imdb_id  popularity     budget     revenue  original_title  \\\n",
       "0  135397  tt0369610   32.985763  150000000  1513528810  Jurassic World   \n",
       "\n",
       "                                                cast  \\\n",
       "0  Chris Pratt|Bryce Dallas Howard|Irrfan Khan|Vi...   \n",
       "\n",
       "                        homepage         director            tagline  ...  \\\n",
       "0  http://www.jurassicworld.com/  Colin Trevorrow  The park is open.  ...   \n",
       "\n",
       "                                            overview runtime  \\\n",
       "0  Twenty-two years after the events of Jurassic ...     124   \n",
       "\n",
       "                                      genres  \\\n",
       "0  Action|Adventure|Science Fiction|Thriller   \n",
       "\n",
       "                                production_companies release_date vote_count  \\\n",
       "0  Universal Studios|Amblin Entertainment|Legenda...       6/9/15       5562   \n",
       "\n",
       "   vote_average  release_year    budget_adj   revenue_adj  \n",
       "0           6.5          2015  1.379999e+08  1.392446e+09  \n",
       "\n",
       "[1 rows x 21 columns]"
      ]
     },
     "execution_count": 26,
     "metadata": {},
     "output_type": "execute_result"
    }
   ],
   "source": [
    "import pandas as pd\n",
    "import numpy as np\n",
    "import matplotlib.pyplot as plt\n",
    "%matplotlib inline\n",
    "df = pd.read_csv('tmdb-movies.csv')\n",
    "df.head(1)"
   ]
  },
  {
   "cell_type": "code",
   "execution_count": 27,
   "id": "adfacfef",
   "metadata": {},
   "outputs": [],
   "source": [
    "#cleaning data, drop some columns that will not use\n",
    "df.drop(['id', 'imdb_id', 'original_title', 'cast', 'homepage', 'director', 'tagline', 'overview', 'production_companies', 'keywords', 'popularity','release_date', 'vote_average', 'vote_count', 'release_year', 'budget_adj', 'revenue_adj'], axis=1, inplace=True)"
   ]
  },
  {
   "cell_type": "code",
   "execution_count": 28,
   "id": "74a500ff",
   "metadata": {},
   "outputs": [
    {
     "data": {
      "text/html": [
       "<div>\n",
       "<style scoped>\n",
       "    .dataframe tbody tr th:only-of-type {\n",
       "        vertical-align: middle;\n",
       "    }\n",
       "\n",
       "    .dataframe tbody tr th {\n",
       "        vertical-align: top;\n",
       "    }\n",
       "\n",
       "    .dataframe thead th {\n",
       "        text-align: right;\n",
       "    }\n",
       "</style>\n",
       "<table border=\"1\" class=\"dataframe\">\n",
       "  <thead>\n",
       "    <tr style=\"text-align: right;\">\n",
       "      <th></th>\n",
       "      <th>budget</th>\n",
       "      <th>revenue</th>\n",
       "      <th>runtime</th>\n",
       "      <th>genres</th>\n",
       "    </tr>\n",
       "  </thead>\n",
       "  <tbody>\n",
       "    <tr>\n",
       "      <th>0</th>\n",
       "      <td>150000000</td>\n",
       "      <td>1513528810</td>\n",
       "      <td>124</td>\n",
       "      <td>Action|Adventure|Science Fiction|Thriller</td>\n",
       "    </tr>\n",
       "    <tr>\n",
       "      <th>1</th>\n",
       "      <td>150000000</td>\n",
       "      <td>378436354</td>\n",
       "      <td>120</td>\n",
       "      <td>Action|Adventure|Science Fiction|Thriller</td>\n",
       "    </tr>\n",
       "    <tr>\n",
       "      <th>2</th>\n",
       "      <td>110000000</td>\n",
       "      <td>295238201</td>\n",
       "      <td>119</td>\n",
       "      <td>Adventure|Science Fiction|Thriller</td>\n",
       "    </tr>\n",
       "    <tr>\n",
       "      <th>3</th>\n",
       "      <td>200000000</td>\n",
       "      <td>2068178225</td>\n",
       "      <td>136</td>\n",
       "      <td>Action|Adventure|Science Fiction|Fantasy</td>\n",
       "    </tr>\n",
       "    <tr>\n",
       "      <th>4</th>\n",
       "      <td>190000000</td>\n",
       "      <td>1506249360</td>\n",
       "      <td>137</td>\n",
       "      <td>Action|Crime|Thriller</td>\n",
       "    </tr>\n",
       "  </tbody>\n",
       "</table>\n",
       "</div>"
      ],
      "text/plain": [
       "      budget     revenue  runtime                                     genres\n",
       "0  150000000  1513528810      124  Action|Adventure|Science Fiction|Thriller\n",
       "1  150000000   378436354      120  Action|Adventure|Science Fiction|Thriller\n",
       "2  110000000   295238201      119         Adventure|Science Fiction|Thriller\n",
       "3  200000000  2068178225      136   Action|Adventure|Science Fiction|Fantasy\n",
       "4  190000000  1506249360      137                      Action|Crime|Thriller"
      ]
     },
     "execution_count": 28,
     "metadata": {},
     "output_type": "execute_result"
    }
   ],
   "source": [
    "#the columns I need in my project\n",
    "df.head()"
   ]
  },
  {
   "cell_type": "markdown",
   "id": "b70ecd2d",
   "metadata": {},
   "source": [
    "# Questions\n",
    "\n",
    "#### 1- What are the average budgets?\n",
    "#### 2- What are the average revenues?\n",
    "\n",
    "#### 3- What is the highest budget that has been spent?\n",
    "#### 4- What is the highest revenue that has been earned?\n",
    "\n",
    "#### 5- What is the total budgets spent?\n",
    "#### 6- What is the total revenue earned?\n",
    "\n",
    "#### 7- What is the most genres of movies?\n"
   ]
  },
  {
   "cell_type": "markdown",
   "id": "64a7028f",
   "metadata": {},
   "source": [
    "# Cleaning data rows and handle missing values, and fix the data types"
   ]
  },
  {
   "cell_type": "code",
   "execution_count": 29,
   "id": "95948eae",
   "metadata": {},
   "outputs": [],
   "source": [
    "# change the revenue and budget to float\n",
    "\n",
    "df['revenue'] = df['revenue'].astype(float)\n",
    "df['budget'] = df['budget'].astype(float)"
   ]
  },
  {
   "cell_type": "code",
   "execution_count": 30,
   "id": "a302027a",
   "metadata": {},
   "outputs": [],
   "source": [
    "#I replaced 0 values in budget and revenue with null\n",
    "\n",
    "df['budget']=df['budget'].replace(0, np.nan)\n",
    "\n",
    "df['revenue']=df['revenue'].replace(0, np.nan)"
   ]
  },
  {
   "cell_type": "code",
   "execution_count": 31,
   "id": "ced2362a",
   "metadata": {
    "scrolled": true
   },
   "outputs": [
    {
     "data": {
      "text/html": [
       "<div>\n",
       "<style scoped>\n",
       "    .dataframe tbody tr th:only-of-type {\n",
       "        vertical-align: middle;\n",
       "    }\n",
       "\n",
       "    .dataframe tbody tr th {\n",
       "        vertical-align: top;\n",
       "    }\n",
       "\n",
       "    .dataframe thead th {\n",
       "        text-align: right;\n",
       "    }\n",
       "</style>\n",
       "<table border=\"1\" class=\"dataframe\">\n",
       "  <thead>\n",
       "    <tr style=\"text-align: right;\">\n",
       "      <th></th>\n",
       "      <th>budget</th>\n",
       "      <th>revenue</th>\n",
       "      <th>runtime</th>\n",
       "    </tr>\n",
       "  </thead>\n",
       "  <tbody>\n",
       "    <tr>\n",
       "      <th>count</th>\n",
       "      <td>5.170000e+03</td>\n",
       "      <td>4.850000e+03</td>\n",
       "      <td>10866.000000</td>\n",
       "    </tr>\n",
       "    <tr>\n",
       "      <th>mean</th>\n",
       "      <td>3.073943e+07</td>\n",
       "      <td>8.922066e+07</td>\n",
       "      <td>102.070863</td>\n",
       "    </tr>\n",
       "    <tr>\n",
       "      <th>std</th>\n",
       "      <td>3.890065e+07</td>\n",
       "      <td>1.620684e+08</td>\n",
       "      <td>31.381405</td>\n",
       "    </tr>\n",
       "    <tr>\n",
       "      <th>min</th>\n",
       "      <td>1.000000e+00</td>\n",
       "      <td>2.000000e+00</td>\n",
       "      <td>0.000000</td>\n",
       "    </tr>\n",
       "    <tr>\n",
       "      <th>25%</th>\n",
       "      <td>6.000000e+06</td>\n",
       "      <td>7.708081e+06</td>\n",
       "      <td>90.000000</td>\n",
       "    </tr>\n",
       "    <tr>\n",
       "      <th>50%</th>\n",
       "      <td>1.700000e+07</td>\n",
       "      <td>3.182654e+07</td>\n",
       "      <td>99.000000</td>\n",
       "    </tr>\n",
       "    <tr>\n",
       "      <th>75%</th>\n",
       "      <td>4.000000e+07</td>\n",
       "      <td>9.991823e+07</td>\n",
       "      <td>111.000000</td>\n",
       "    </tr>\n",
       "    <tr>\n",
       "      <th>max</th>\n",
       "      <td>4.250000e+08</td>\n",
       "      <td>2.781506e+09</td>\n",
       "      <td>900.000000</td>\n",
       "    </tr>\n",
       "  </tbody>\n",
       "</table>\n",
       "</div>"
      ],
      "text/plain": [
       "             budget       revenue       runtime\n",
       "count  5.170000e+03  4.850000e+03  10866.000000\n",
       "mean   3.073943e+07  8.922066e+07    102.070863\n",
       "std    3.890065e+07  1.620684e+08     31.381405\n",
       "min    1.000000e+00  2.000000e+00      0.000000\n",
       "25%    6.000000e+06  7.708081e+06     90.000000\n",
       "50%    1.700000e+07  3.182654e+07     99.000000\n",
       "75%    4.000000e+07  9.991823e+07    111.000000\n",
       "max    4.250000e+08  2.781506e+09    900.000000"
      ]
     },
     "execution_count": 31,
     "metadata": {},
     "output_type": "execute_result"
    }
   ],
   "source": [
    "df.describe()"
   ]
  },
  {
   "cell_type": "markdown",
   "id": "c6d08be8",
   "metadata": {},
   "source": [
    "\n",
    "\n",
    "### here is a brief of cleaning steps that I did:\n",
    "\n",
    "* Firstly I dropped that colmns that will not tuse in analyas, I did that to make concentration on the data I need.\n",
    "* I changed the data type to float to make it easy for work on it.\n",
    "* I found many zero values in budget and revenue, I fixed it by fill it with null.\n",
    "\n",
    "# Let's Discovering cleaned data 👇\n"
   ]
  },
  {
   "cell_type": "code",
   "execution_count": 32,
   "id": "d2eb65ee",
   "metadata": {},
   "outputs": [],
   "source": [
    "#function to calculate mean of numeric data\n",
    "\n",
    "def mean_calculation(mean):\n",
    "    return mean.mean()"
   ]
  },
  {
   "cell_type": "code",
   "execution_count": 33,
   "id": "4b1a3622",
   "metadata": {},
   "outputs": [],
   "source": [
    "#function to show plots to not repeate code\n",
    "def showplots(df,xvalues, stat, color='blue'):\n",
    "    df[xvalues].agg(stat).plot.bar(color = color,\n",
    "                                  width=0.9,\n",
    "                                  rot=0,\n",
    "                                  figsize=[12.70,7.27])\n",
    "    plt.yticks(color='blue')\n",
    "    plt.xlabel(f'{\" and \".join(xvalues)}'.title())\n",
    "    plt.ylabel(f'{stat} values(10M)'.title())\n",
    "    plt.title(f\"{stat} of budgets and revenue\".title())\n",
    "    "
   ]
  },
  {
   "cell_type": "code",
   "execution_count": 34,
   "id": "e9055812",
   "metadata": {
    "scrolled": true
   },
   "outputs": [
    {
     "data": {
      "image/png": "[encoded data removed]",
      "text/plain": [
       "<Figure size 914.4x523.44 with 1 Axes>"
      ]
     },
     "metadata": {
      "needs_background": "light"
     },
     "output_type": "display_data"
    }
   ],
   "source": [
    "showplots(df,['revenue','budget'], stat='mean', color='blue')"
   ]
  },
  {
   "cell_type": "markdown",
   "id": "57ef7e11",
   "metadata": {},
   "source": [
    "### the function `showplots`above is not work perfectly, i tried to fix it but did not find the solution yet, so i made plots code separately for each type: mean, total, max...  👇\n",
    "\n",
    "\n",
    "\n",
    "\n",
    "\n",
    "\n",
    "."
   ]
  },
  {
   "cell_type": "code",
   "execution_count": 35,
   "id": "8f7b15fe",
   "metadata": {},
   "outputs": [
    {
     "name": "stdout",
     "output_type": "stream",
     "text": [
      "30739432.899226304\n"
     ]
    }
   ],
   "source": [
    "#mean of budget of all movies\n",
    "\n",
    "mean_budget = mean_calculation(df['budget'])\n",
    "\n",
    "\n",
    "print(mean_budget)"
   ]
  },
  {
   "cell_type": "code",
   "execution_count": 36,
   "id": "a7f8320b",
   "metadata": {},
   "outputs": [
    {
     "name": "stdout",
     "output_type": "stream",
     "text": [
      "89220658.32474227\n"
     ]
    }
   ],
   "source": [
    "#mean of revenue of all movies\n",
    "\n",
    "mean_revenue = mean_calculation(df['revenue'])\n",
    "\n",
    "\n",
    "print(mean_revenue)"
   ]
  },
  {
   "cell_type": "code",
   "execution_count": 37,
   "id": "0540edea",
   "metadata": {},
   "outputs": [
    {
     "data": {
      "image/png": "[encoded data removed]",
      "text/plain": [
       "<Figure size 432x288 with 1 Axes>"
      ]
     },
     "metadata": {
      "needs_background": "light"
     },
     "output_type": "display_data"
    }
   ],
   "source": [
    "\n",
    "x = np.array([\"mean revenue\", \"mean budget\"])\n",
    "y = mean_revenue, mean_budget\n",
    "\n",
    "\n",
    "plt.bar(x, y, color = \"#03cafc\")\n",
    "\n",
    "plt.yticks(color='blue')\n",
    "plt.xlabel('mean of budgets and revenues')\n",
    "plt.ylabel('values per billion')\n",
    "\n",
    "\n",
    "plt.show()"
   ]
  },
  {
   "cell_type": "code",
   "execution_count": 38,
   "id": "464f5532",
   "metadata": {},
   "outputs": [
    {
     "name": "stdout",
     "output_type": "stream",
     "text": [
      "425000000.0\n"
     ]
    }
   ],
   "source": [
    "#max budget has been spent\n",
    "max_budget = df['budget'].max()\n",
    "\n",
    "print(max_budget)\n"
   ]
  },
  {
   "cell_type": "code",
   "execution_count": 39,
   "id": "ddc7c904",
   "metadata": {},
   "outputs": [
    {
     "name": "stdout",
     "output_type": "stream",
     "text": [
      "2781505847.0\n"
     ]
    }
   ],
   "source": [
    "#max revenue has been spent\n",
    "max_revenue = df['revenue'].max()\n",
    "print(max_revenue)\n"
   ]
  },
  {
   "cell_type": "code",
   "execution_count": 40,
   "id": "2362d729",
   "metadata": {
    "scrolled": true
   },
   "outputs": [
    {
     "data": {
      "image/png": "[encoded data removed]",
      "text/plain": [
       "<Figure size 432x288 with 1 Axes>"
      ]
     },
     "metadata": {
      "needs_background": "light"
     },
     "output_type": "display_data"
    }
   ],
   "source": [
    "#max values of budgets and revenues\n",
    "x = np.array([\"max revenue per Billion\", \"max budget per Billion\"])\n",
    "y = max_revenue, max_budget\n",
    "\n",
    "\n",
    "plt.bar(x, y, color = \"#4CAF50\")\n",
    "\n",
    "plt.yticks(color='blue')\n",
    "plt.xlabel('Max of values revenue and budgets')\n",
    "plt.ylabel('Max values per billion')\n",
    "\n",
    "plt.show()"
   ]
  },
  {
   "cell_type": "code",
   "execution_count": 41,
   "id": "3aaab3d7",
   "metadata": {},
   "outputs": [
    {
     "name": "stdout",
     "output_type": "stream",
     "text": [
      "158922868089.0\n"
     ]
    }
   ],
   "source": [
    "#total of budget that has been spent to make movies\n",
    "total_budgets = df['budget'].sum() \n",
    "\n",
    "print(total_budgets)"
   ]
  },
  {
   "cell_type": "code",
   "execution_count": 42,
   "id": "52bd173b",
   "metadata": {},
   "outputs": [
    {
     "name": "stdout",
     "output_type": "stream",
     "text": [
      "432720192875.0\n"
     ]
    }
   ],
   "source": [
    "#total of revenue that has been profit from selling movies\n",
    "\n",
    "total_revenue = df['revenue'].sum() \n",
    "\n",
    "\n",
    "print(total_revenue)"
   ]
  },
  {
   "cell_type": "code",
   "execution_count": 43,
   "id": "e946f915",
   "metadata": {},
   "outputs": [
    {
     "data": {
      "image/png": "[encoded data removed]",
      "text/plain": [
       "<Figure size 432x288 with 1 Axes>"
      ]
     },
     "metadata": {
      "needs_background": "light"
     },
     "output_type": "display_data"
    }
   ],
   "source": [
    "#total values of budgets and revenues\n",
    "x = np.array([\"total revenue per Billion\", \"total budgets per Billion\"])\n",
    "y = total_revenue, total_budgets\n",
    "\n",
    "\n",
    "plt.bar(x, y, color = \"orange\")\n",
    "\n",
    "plt.yticks(color='blue')\n",
    "plt.xlabel('Total of  revenue and budgets')\n",
    "plt.ylabel('Total values per billion')\n",
    "\n",
    "plt.show()"
   ]
  },
  {
   "cell_type": "code",
   "execution_count": 44,
   "id": "d94f48c9",
   "metadata": {},
   "outputs": [
    {
     "data": {
      "text/plain": [
       "[Text(0.5, 0, 'minutes'), Text(0, 0.5, 'number of movies')]"
      ]
     },
     "execution_count": 44,
     "metadata": {},
     "output_type": "execute_result"
    },
    {
     "data": {
      "image/png": "[encoded data removed]",
      "text/plain": [
       "<Figure size 432x288 with 1 Axes>"
      ]
     },
     "metadata": {
      "needs_background": "light"
     },
     "output_type": "display_data"
    }
   ],
   "source": [
    "plot_runtime = df['runtime'].plot(kind='hist',\n",
    "                                 grid=True,\n",
    "                                 legend=True,\n",
    "                                 title='runtime avg',\n",
    "                                 rwidth=0.8,\n",
    "                                 bins=35,\n",
    "                                 color='orange')\n",
    "plot_runtime.set(xlabel='minutes', ylabel='number of movies')"
   ]
  },
  {
   "cell_type": "markdown",
   "id": "533329b9",
   "metadata": {},
   "source": [
    "#### we can see the average runtime is almost under 200 minutes, which is reach mor than 5000 movie, and the `avg runtime` is `102` minute"
   ]
  },
  {
   "cell_type": "code",
   "execution_count": 45,
   "id": "016acdf8",
   "metadata": {},
   "outputs": [
    {
     "data": {
      "text/plain": [
       "102.07086324314375"
      ]
     },
     "execution_count": 45,
     "metadata": {},
     "output_type": "execute_result"
    }
   ],
   "source": [
    "df['runtime'].mean()"
   ]
  },
  {
   "cell_type": "code",
   "execution_count": 46,
   "id": "b5199b4f",
   "metadata": {},
   "outputs": [],
   "source": [
    "#Total of movies that contains selected genres\n",
    "\n",
    "all_action = len(df[df['genres'].str.contains('Action') == True])\n",
    "\n",
    "all_comedy = len(df[df['genres'].str.contains('Comedy') == True])\n",
    "\n",
    "all_drama = len(df[df['genres'].str.contains('Drama') == True])\n",
    "\n",
    "all_horror = len(df[df['genres'].str.contains('Horror') == True])\n"
   ]
  },
  {
   "cell_type": "code",
   "execution_count": 47,
   "id": "8861fd8d",
   "metadata": {},
   "outputs": [
    {
     "data": {
      "image/png": "[encoded data removed]",
      "text/plain": [
       "<Figure size 432x288 with 1 Axes>"
      ]
     },
     "metadata": {},
     "output_type": "display_data"
    }
   ],
   "source": [
    "labels = 'Action', 'Comedy', 'Drama', 'Horror' \n",
    "values = [all_action, all_comedy, all_drama, all_horror]\n",
    "\n",
    "plt.pie(values, labels=labels, radius=1.5, autopct='%1.1f%%')\n",
    "       \n",
    "plt.show()"
   ]
  },
  {
   "cell_type": "markdown",
   "id": "f26d71bd",
   "metadata": {},
   "source": [
    "# Conclusion\n",
    "* we can see that movies is very profitable, the revenue total is `$432,720,192,875` while total of investment is to low comparsing with proft, which is `$158,922,868,089`.\n",
    "* avarage of movies budgets is `$30,739,432.9`.\n",
    "* avarage of movies revenue is `$89,220,658.32`.\n",
    "* avarage of movies length is `102`minutes.\n",
    "* we can see the most of movies genres is in `Drama` which is `37.9%` from all movies, the second genre is the `Comedy`, which is `30.2%`. the third genre is the `Action` which is `19%`, and the `Horror` movies is `13%`\n",
    "\n",
    "## Limitation\n",
    "\n",
    "* We have used TMBD Movies dataset for our analysis and worked with `budget`, `revenue`. `genres` and `runtime`. Our analysis is limited to only the provided dataset. For example, the dataset does not confirm that every release of every director is listed or votes or rating.\n",
    "\n",
    "* We dropped many missing values of `budget` and `revenue`, so  might skew our analysis and could show unintentional bias towards the relationship being analyzed."
   ]
  },
  {
   "cell_type": "code",
   "execution_count": null,
   "id": "df15fab8",
   "metadata": {},
   "outputs": [],
   "source": []
  }
 ],
 "metadata": {
  "kernelspec": {
   "display_name": "Python 3",
   "language": "python",
   "name": "python3"
  },
  "language_info": {
   "codemirror_mode": {
    "name": "ipython",
    "version": 3
   },
   "file_extension": ".py",
   "mimetype": "text/x-python",
   "name": "python",
   "nbconvert_exporter": "python",
   "pygments_lexer": "ipython3",
   "version": "3.9.4"
  }
 },
 "nbformat": 4,
 "nbformat_minor": 5
}
